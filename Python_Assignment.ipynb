{
  "nbformat": 4,
  "nbformat_minor": 0,
  "metadata": {
    "colab": {
      "name": "Python_Assignment.ipynb",
      "provenance": []
    },
    "kernelspec": {
      "name": "python3",
      "display_name": "Python 3"
    },
    "language_info": {
      "name": "python"
    }
  },
  "cells": [
    {
      "cell_type": "code",
      "metadata": {
        "id": "vHHQo4s84eNN"
      },
      "source": [
        "# Write a Python program to print the following string in a specific format (see the \n",
        "# output). \n",
        "# Twinkle, twinkle, little star, \n",
        " \n",
        "# How I wonder what you are! \n",
        " \n",
        "# Up above the world so high, \n",
        "# Like a diamond in the sky. \n",
        " \n",
        "# Twinkle, twinkle, little star, \n",
        " \n",
        "# How I wonder what you are"
      ],
      "execution_count": 1,
      "outputs": []
    },
    {
      "cell_type": "code",
      "metadata": {
        "colab": {
          "base_uri": "https://localhost:8080/"
        },
        "id": "cz7vnJ3I4txa",
        "outputId": "7efb2554-3c94-482c-9d45-c4bc753a1353"
      },
      "source": [
        "print('''Twinkle, twinkle, little star,\\n\\t\n",
        "How I wonder what you are! \\n\\t\\tUp above the world so high, \\n\\t\\t\n",
        "Like a diamond in the sky. \\n\n",
        "Twinkle, twinkle, little star, \\n\\t\n",
        "How I wonder what you are!''')"
      ],
      "execution_count": 4,
      "outputs": [
        {
          "output_type": "stream",
          "name": "stdout",
          "text": [
            "Twinkle, twinkle, little star,\n",
            "\t\n",
            "How I wonder what you are! \n",
            "\t\tUp above the world so high, \n",
            "\t\t\n",
            "Like a diamond in the sky. \n",
            "\n",
            "Twinkle, twinkle, little star, \n",
            "\t\n",
            "How I wonder what you are!\n"
          ]
        }
      ]
    },
    {
      "cell_type": "code",
      "metadata": {
        "colab": {
          "base_uri": "https://localhost:8080/",
          "height": 318
        },
        "id": "qqWlrsn649Fd",
        "outputId": "00d976f5-776d-4b14-a4de-c801835d0b4e"
      },
      "source": [
        "import python\n",
        "python.__ver__"
      ],
      "execution_count": 7,
      "outputs": [
        {
          "output_type": "error",
          "ename": "ModuleNotFoundError",
          "evalue": "ignored",
          "traceback": [
            "\u001b[0;31m---------------------------------------------------------------------------\u001b[0m",
            "\u001b[0;31mModuleNotFoundError\u001b[0m                       Traceback (most recent call last)",
            "\u001b[0;32m<ipython-input-7-8cb15b9ea4de>\u001b[0m in \u001b[0;36m<module>\u001b[0;34m()\u001b[0m\n\u001b[0;32m----> 1\u001b[0;31m \u001b[0;32mimport\u001b[0m \u001b[0mpython\u001b[0m\u001b[0;34m\u001b[0m\u001b[0;34m\u001b[0m\u001b[0m\n\u001b[0m\u001b[1;32m      2\u001b[0m \u001b[0mpython\u001b[0m\u001b[0;34m.\u001b[0m\u001b[0m__ver__\u001b[0m\u001b[0;34m\u001b[0m\u001b[0;34m\u001b[0m\u001b[0m\n",
            "\u001b[0;31mModuleNotFoundError\u001b[0m: No module named 'python'",
            "",
            "\u001b[0;31m---------------------------------------------------------------------------\u001b[0;32m\nNOTE: If your import is failing due to a missing package, you can\nmanually install dependencies using either !pip or !apt.\n\nTo view examples of installing some common dependencies, click the\n\"Open Examples\" button below.\n\u001b[0;31m---------------------------------------------------------------------------\u001b[0m\n"
          ],
          "errorDetails": {
            "actions": [
              {
                "action": "open_url",
                "actionText": "Open Examples",
                "url": "/notebooks/snippets/importing_libraries.ipynb"
              }
            ]
          }
        }
      ]
    },
    {
      "cell_type": "code",
      "metadata": {
        "colab": {
          "base_uri": "https://localhost:8080/",
          "height": 35
        },
        "id": "yvy7nQ185ULl",
        "outputId": "9cb43928-320a-47cf-8723-9da521c6d64e"
      },
      "source": [
        "# Write a Python program to get the Python version you are using\n",
        "import sys\n",
        "sys.version"
      ],
      "execution_count": 8,
      "outputs": [
        {
          "output_type": "execute_result",
          "data": {
            "application/vnd.google.colaboratory.intrinsic+json": {
              "type": "string"
            },
            "text/plain": [
              "'3.7.12 (default, Sep 10 2021, 00:21:48) \\n[GCC 7.5.0]'"
            ]
          },
          "metadata": {},
          "execution_count": 8
        }
      ]
    },
    {
      "cell_type": "code",
      "metadata": {
        "colab": {
          "base_uri": "https://localhost:8080/"
        },
        "id": "4DDjPt9w5o7s",
        "outputId": "ca7b86d3-8fb3-4c86-b8ca-0929b488b4d4"
      },
      "source": [
        "# Write a Python program to display the current date and time.\n",
        "from datetime import datetime\n",
        "print(\"Today's Date & time \",datetime.now())"
      ],
      "execution_count": 13,
      "outputs": [
        {
          "output_type": "stream",
          "name": "stdout",
          "text": [
            "Today's Date & time  2021-10-22 16:50:55.370350\n"
          ]
        }
      ]
    },
    {
      "cell_type": "code",
      "metadata": {
        "colab": {
          "base_uri": "https://localhost:8080/"
        },
        "id": "CIPQGtt66Bbo",
        "outputId": "e9b4102f-4a3c-4e9b-a8ea-e4c54e69d730"
      },
      "source": [
        "# 4. Write a Python program which accepts the radius of a circle from the user and compute \n",
        "# the area.\n",
        "radius = float(input(\"Input the radius of the circle:- \"))\n",
        "area = 3.14*radius**2\n",
        "print(\"The area of the circle with radius \"+str(radius) +\" is: \"+str(area))"
      ],
      "execution_count": 17,
      "outputs": [
        {
          "output_type": "stream",
          "name": "stdout",
          "text": [
            "Input the radius of the circle:- 2\n",
            "The area of the circle with radius 2.0 is: 12.56\n"
          ]
        }
      ]
    },
    {
      "cell_type": "code",
      "metadata": {
        "colab": {
          "base_uri": "https://localhost:8080/"
        },
        "id": "WRYJD-xV8M7P",
        "outputId": "99be004d-fe98-4c55-d5ac-ff131b309fb4"
      },
      "source": [
        "# 5. Write a Python program which accepts the user's first and last name and print them in \n",
        "# reverse order with a space between them. \n",
        "first_name = input(\"Input your First Name:- \")\n",
        "last_name = input(\"Input your Last Name:- \")\n",
        "print (\"Hey,\",last_name,first_name)"
      ],
      "execution_count": 19,
      "outputs": [
        {
          "output_type": "stream",
          "name": "stdout",
          "text": [
            "Input your First Name:- Abdul\n",
            "Input your Last Name:- Qadir\n",
            "Hey, Qadir Abdul\n"
          ]
        }
      ]
    },
    {
      "cell_type": "code",
      "metadata": {
        "colab": {
          "base_uri": "https://localhost:8080/"
        },
        "id": "Nf1KfyQp9hkl",
        "outputId": "3192add4-1adb-4b54-eb99-89036539f784"
      },
      "source": [
        "# 6. Write a python program which takes two inputs from user and print them addition\n",
        "a=int(input(\"Enter First Number \"))\n",
        "b=int(input(\"Enter First Number \"))\n",
        "print(\"Addition=\",a+b)"
      ],
      "execution_count": 22,
      "outputs": [
        {
          "output_type": "stream",
          "name": "stdout",
          "text": [
            "Enter First Number 5\n",
            "Enter First Number 5\n",
            "Addition= 10\n"
          ]
        }
      ]
    },
    {
      "cell_type": "code",
      "metadata": {
        "colab": {
          "base_uri": "https://localhost:8080/"
        },
        "id": "ZZoFaQKD9_m-",
        "outputId": "dc01259c-0ff8-4a44-8411-cafe7191c142"
      },
      "source": [
        "# Write a program which takes 5 inputs from user for different subject’s marks, total it \n",
        "# and generate mark sheet using grades ? \n",
        "sub1=int(input(\"Enter marks of the first subject: \"))\n",
        "sub2=int(input(\"Enter marks of the second subject: \"))\n",
        "sub3=int(input(\"Enter marks of the third subject: \"))\n",
        "sub4=int(input(\"Enter marks of the fourth subject: \"))\n",
        "sub5=int(input(\"Enter marks of the fifth subject: \"))\n",
        "avg=(sub1+sub2+sub3+sub4+sub4)/5\n",
        "if(avg>=90):\n",
        "    print(\"Grade: A\")\n",
        "elif(avg>=80 and avg<90):\n",
        "    print(\"Grade: B\")\n",
        "elif(avg>=70 and avg<80):\n",
        "    print(\"Grade: C\")\n",
        "elif(avg>=60 and avg<70):\n",
        "    print(\"Grade: D\")\n",
        "else:\n",
        "    print(\"Grade: F\")"
      ],
      "execution_count": 24,
      "outputs": [
        {
          "output_type": "stream",
          "name": "stdout",
          "text": [
            "Enter marks of the first subject: 90\n",
            "Enter marks of the second subject: 90\n",
            "Enter marks of the third subject: 90\n",
            "Enter marks of the fourth subject: 90\n",
            "Enter marks of the fifth subject: 90\n",
            "Grade: A\n"
          ]
        }
      ]
    },
    {
      "cell_type": "code",
      "metadata": {
        "colab": {
          "base_uri": "https://localhost:8080/"
        },
        "id": "XZgW0ZMx-1FR",
        "outputId": "7661559b-4f91-49ec-e717-3ae95b2209dc"
      },
      "source": [
        "# Write a program which take input from user and identify that the given number is even \n",
        "# or odd? \n",
        "a=int(input('Enter a number '))\n",
        "if (a%2==0):\n",
        "  print('The number is Even ')\n",
        "else:\n",
        "  print('The Number is Odd ')"
      ],
      "execution_count": 26,
      "outputs": [
        {
          "output_type": "stream",
          "name": "stdout",
          "text": [
            "Enter a number 1\n",
            "The Number is Odd \n"
          ]
        }
      ]
    },
    {
      "cell_type": "code",
      "metadata": {
        "colab": {
          "base_uri": "https://localhost:8080/"
        },
        "id": "JQ2NHd-W_unc",
        "outputId": "41180f96-89e9-43eb-ef67-15f7fb39e900"
      },
      "source": [
        "# Write a program which print the length of the list?\n",
        "l=[1,2,3,4,5,6,7,8,9,'A','B','C','D','E','F','G']\n",
        "len(l)"
      ],
      "execution_count": 27,
      "outputs": [
        {
          "output_type": "execute_result",
          "data": {
            "text/plain": [
              "16"
            ]
          },
          "metadata": {},
          "execution_count": 27
        }
      ]
    },
    {
      "cell_type": "code",
      "metadata": {
        "colab": {
          "base_uri": "https://localhost:8080/"
        },
        "id": "uxg6TymhAAar",
        "outputId": "c7dbbf56-4652-4795-b227-92fa28667d40"
      },
      "source": [
        "# 10.Write a Python program to sum all the numeric items in a list? \n",
        "a=[1,2,3]+[4,5]\n",
        "print(a)\n",
        "print('\\n')\n",
        "l= []\n",
        "import numpy as np\n",
        "np.sum([1,2,3,4,5])"
      ],
      "execution_count": 52,
      "outputs": [
        {
          "output_type": "stream",
          "name": "stdout",
          "text": [
            "[1, 2, 3, 4, 5]\n",
            "\n",
            "\n"
          ]
        },
        {
          "output_type": "execute_result",
          "data": {
            "text/plain": [
              "15"
            ]
          },
          "metadata": {},
          "execution_count": 52
        }
      ]
    },
    {
      "cell_type": "code",
      "metadata": {
        "colab": {
          "base_uri": "https://localhost:8080/"
        },
        "id": "MbJUUkbxAR8g",
        "outputId": "00252e85-9751-44c5-b099-dff304d4342d"
      },
      "source": [
        "# 11.Write a Python program to get the largest number from a numeric list.\n",
        "max([1,2,3,4,5,6,7])"
      ],
      "execution_count": 43,
      "outputs": [
        {
          "output_type": "execute_result",
          "data": {
            "text/plain": [
              "7"
            ]
          },
          "metadata": {},
          "execution_count": 43
        }
      ]
    },
    {
      "cell_type": "code",
      "metadata": {
        "colab": {
          "base_uri": "https://localhost:8080/"
        },
        "id": "QunQvejGDBon",
        "outputId": "94f8c79d-02dd-4336-8319-2fe529b7d1f1"
      },
      "source": [
        "# Take a list, say for example this one: \n",
        "# a = [1, 1, 2, 3, 5, 8, 13, 21, 34, 55, 89] \n",
        "#  Write a program that prints out all the elements of the list that are less than 5.\n",
        "a = [1, 1, 2, 3, 5, 8, 13, 21, 34, 55, 89]\n",
        "for elements in a:\n",
        "  if elements<5:\n",
        "    print(elements)"
      ],
      "execution_count": 56,
      "outputs": [
        {
          "output_type": "stream",
          "name": "stdout",
          "text": [
            "1\n",
            "1\n",
            "2\n",
            "3\n"
          ]
        }
      ]
    },
    {
      "cell_type": "code",
      "metadata": {
        "id": "Tj_2yoQZMIfk"
      },
      "source": [
        ""
      ],
      "execution_count": null,
      "outputs": []
    }
  ]
}